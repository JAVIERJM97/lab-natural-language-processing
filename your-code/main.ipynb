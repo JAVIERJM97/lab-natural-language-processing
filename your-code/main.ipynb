{
  "cells": [
    {
      "cell_type": "code",
      "execution_count": 1,
      "metadata": {
        "colab": {
          "base_uri": "https://localhost:8080/",
          "height": 17
        },
        "id": "HbSCFMQeVMTw",
        "outputId": "24d3a12e-7361-4131-e5be-8e9c09d1c3ee"
      },
      "outputs": [
        {
          "output_type": "display_data",
          "data": {
            "text/plain": [
              "<IPython.core.display.HTML object>"
            ],
            "text/html": [
              "<style>.container { width:100% !important; }</style>"
            ]
          },
          "metadata": {}
        }
      ],
      "source": [
        "from IPython.core.display import display, HTML\n",
        "display(HTML(\"<style>.container { width:100% !important; }</style>\"))"
      ]
    },
    {
      "cell_type": "markdown",
      "metadata": {
        "id": "A_qERZPGVMTx"
      },
      "source": [
        "# Lab | Natural Language Processing\n",
        "### SMS: SPAM or HAM"
      ]
    },
    {
      "cell_type": "markdown",
      "metadata": {
        "id": "6jpiNxsoVMTy"
      },
      "source": [
        "### Let's prepare the environment"
      ]
    },
    {
      "cell_type": "code",
      "execution_count": 2,
      "metadata": {
        "id": "oNAOqzmQVMTy"
      },
      "outputs": [],
      "source": [
        "import pandas as pd\n",
        "import matplotlib.pyplot as plt\n",
        "from sklearn.feature_extraction.text import TfidfVectorizer"
      ]
    },
    {
      "cell_type": "markdown",
      "metadata": {
        "id": "1Ux2wHgNVMTy"
      },
      "source": [
        "- Read Data for the Fraudulent Email Kaggle Challenge\n",
        "- Reduce the training set to speead up development."
      ]
    },
    {
      "cell_type": "code",
      "execution_count": 3,
      "metadata": {
        "colab": {
          "base_uri": "https://localhost:8080/"
        },
        "id": "zHDfCCN6VMTy",
        "outputId": "a5adb9c7-738a-4aa9-d2f7-a518902e7f76"
      },
      "outputs": [
        {
          "output_type": "stream",
          "name": "stdout",
          "text": [
            "(1000, 2)\n"
          ]
        }
      ],
      "source": [
        "data = pd.read_csv(\"kg_train.csv\",encoding='latin-1')\n",
        "\n",
        "data = data.head(1000)\n",
        "print(data.shape)\n",
        "data.fillna(\"\",inplace=True)"
      ]
    },
    {
      "cell_type": "markdown",
      "metadata": {
        "id": "q23faTJ1VMTz"
      },
      "source": [
        "### Let's divide the training and test set into two partitions"
      ]
    },
    {
      "cell_type": "code",
      "source": [
        "from sklearn.model_selection import train_test_split\n",
        "\n",
        "data_train, data_val = train_test_split(data, test_size=0.2, random_state=42)\n",
        "\n",
        "print(data_train.shape)\n",
        "print(data_val.shape)\n"
      ],
      "metadata": {
        "colab": {
          "base_uri": "https://localhost:8080/"
        },
        "id": "bQXJmt0JWDmT",
        "outputId": "f9b2b24a-99a3-4b31-d004-078827e8d06b"
      },
      "execution_count": 8,
      "outputs": [
        {
          "output_type": "stream",
          "name": "stdout",
          "text": [
            "(800, 2)\n",
            "(200, 2)\n"
          ]
        }
      ]
    },
    {
      "cell_type": "code",
      "source": [
        "import nltk\n",
        "nltk.download('stopwords')"
      ],
      "metadata": {
        "colab": {
          "base_uri": "https://localhost:8080/"
        },
        "id": "fWSgvhA8aFOe",
        "outputId": "26df3612-1b58-43b3-a546-b4d98265d044"
      },
      "execution_count": 6,
      "outputs": [
        {
          "output_type": "stream",
          "name": "stderr",
          "text": [
            "[nltk_data] Downloading package stopwords to /root/nltk_data...\n",
            "[nltk_data]   Unzipping corpora/stopwords.zip.\n"
          ]
        },
        {
          "output_type": "execute_result",
          "data": {
            "text/plain": [
              "True"
            ]
          },
          "metadata": {},
          "execution_count": 6
        }
      ]
    },
    {
      "cell_type": "markdown",
      "metadata": {
        "id": "B68u7M81VMTz"
      },
      "source": [
        "## Data Preprocessing"
      ]
    },
    {
      "cell_type": "code",
      "execution_count": 7,
      "metadata": {
        "colab": {
          "base_uri": "https://localhost:8080/"
        },
        "id": "FfIC6DuiVMTz",
        "outputId": "8c3e1307-ae08-4059-d997-2b16562f1763"
      },
      "outputs": [
        {
          "output_type": "stream",
          "name": "stdout",
          "text": [
            "!\"#$%&'()*+,-./:;<=>?@[\\]^_`{|}~\n",
            "['here', 'there', 'when', 'where', 'why', 'how', 'all', 'any', 'both', 'each']\n"
          ]
        }
      ],
      "source": [
        "import string\n",
        "from nltk.corpus import stopwords\n",
        "print(string.punctuation)\n",
        "print(stopwords.words(\"english\")[100:110])\n",
        "from nltk.stem.snowball import SnowballStemmer\n",
        "snowball = SnowballStemmer('english')"
      ]
    },
    {
      "cell_type": "markdown",
      "metadata": {
        "id": "zFzC0_-pVMTz"
      },
      "source": [
        "## Now, we have to clean the html code removing words\n",
        "\n",
        "- First we remove inline JavaScript/CSS\n",
        "- Then we remove html comments. This has to be done before removing regular tags since comments can contain '>' characters\n",
        "- Next we can remove the remaining tags"
      ]
    },
    {
      "cell_type": "code",
      "source": [
        "import nltk\n",
        "nltk.download('wordnet')\n",
        "nltk.download('omw-1.4')"
      ],
      "metadata": {
        "colab": {
          "base_uri": "https://localhost:8080/"
        },
        "id": "VCvBh1BOcDfW",
        "outputId": "098ac7d0-5206-4eda-8d47-e6283611b665"
      },
      "execution_count": 12,
      "outputs": [
        {
          "output_type": "stream",
          "name": "stderr",
          "text": [
            "[nltk_data] Downloading package wordnet to /root/nltk_data...\n",
            "[nltk_data] Downloading package omw-1.4 to /root/nltk_data...\n"
          ]
        },
        {
          "output_type": "execute_result",
          "data": {
            "text/plain": [
              "True"
            ]
          },
          "metadata": {},
          "execution_count": 12
        }
      ]
    },
    {
      "cell_type": "code",
      "execution_count": 13,
      "metadata": {
        "id": "is3RuWCDVMTz"
      },
      "outputs": [],
      "source": [
        "import re\n",
        "import string\n",
        "from nltk.corpus import stopwords\n",
        "from nltk.stem import WordNetLemmatizer\n",
        "\n",
        "def clean_text(text):\n",
        "\n",
        "    text = re.sub(r'<.*?>', '', text)\n",
        "\n",
        "    text = text.translate(str.maketrans('', '', string.punctuation))\n",
        "\n",
        "    text = re.sub(r'\\d+', '', text)\n",
        "\n",
        "    text = text.lower()\n",
        "\n",
        "    stop_words = set(stopwords.words('english'))\n",
        "    text = ' '.join([word for word in text.split() if word not in stop_words])\n",
        "\n",
        "    lemmatizer = WordNetLemmatizer()\n",
        "    text = ' '.join([lemmatizer.lemmatize(word) for word in text.split()])\n",
        "    return text\n",
        "\n",
        "data_train['clean_text'] = data_train['text'].apply(clean_text)\n",
        "data_val['clean_text'] = data_val['text'].apply(clean_text)\n"
      ]
    },
    {
      "cell_type": "markdown",
      "metadata": {
        "id": "WAQcvsQoVMT0"
      },
      "source": [
        "- Remove all the special characters\n",
        "    \n",
        "- Remove numbers\n",
        "    \n",
        "- Remove all single characters\n",
        "\n",
        "- Remove single characters from the start\n",
        "\n",
        "- Substitute multiple spaces with single space\n",
        "\n",
        "- Remove prefixed 'b'\n",
        "\n",
        "- Convert to Lowercase"
      ]
    },
    {
      "cell_type": "code",
      "execution_count": null,
      "metadata": {
        "id": "AtGuuAefVMT0"
      },
      "outputs": [],
      "source": [
        "# Your code"
      ]
    },
    {
      "cell_type": "markdown",
      "metadata": {
        "id": "xkU4QTDnVMT0"
      },
      "source": [
        "## Now let's work on removing stopwords\n",
        "Remove the stopwords."
      ]
    },
    {
      "cell_type": "code",
      "execution_count": null,
      "metadata": {
        "id": "3a3t7mLLVMT0"
      },
      "outputs": [],
      "source": [
        "# Your code"
      ]
    },
    {
      "cell_type": "markdown",
      "metadata": {
        "id": "2B6jzqNVVMT0"
      },
      "source": [
        "## Tame Your Text with Lemmatization\n",
        "Break sentences into words, then use lemmatization to reduce them to their base form (e.g., \"running\" becomes \"run\"). See how this creates cleaner data for analysis!"
      ]
    },
    {
      "cell_type": "code",
      "execution_count": null,
      "metadata": {
        "id": "rTklF66XVMT0"
      },
      "outputs": [],
      "source": [
        "# Your code"
      ]
    },
    {
      "cell_type": "markdown",
      "metadata": {
        "id": "AdopeMlVVMT0"
      },
      "source": [
        "## Bag Of Words\n",
        "Let's get the 10 top words in ham and spam messages (**EXPLORATORY DATA ANALYSIS**)"
      ]
    },
    {
      "cell_type": "code",
      "execution_count": 14,
      "metadata": {
        "colab": {
          "base_uri": "https://localhost:8080/"
        },
        "id": "xAkban7uVMT1",
        "outputId": "a3c59a35-1d20-4028-d451-6dec654e2c2a"
      },
      "outputs": [
        {
          "output_type": "stream",
          "name": "stdout",
          "text": [
            "Top spam words: ['call' 'mr' 'one' 'percent' 'pm' 'president' 'secretary' 'state' 'time'\n",
            " 'would']\n"
          ]
        }
      ],
      "source": [
        "from sklearn.feature_extraction.text import CountVectorizer\n",
        "\n",
        "vectorizer = CountVectorizer(max_features=10)\n",
        "spam_words = vectorizer.fit_transform(data_train[data_train['label'] == 1]['clean_text']).toarray()\n",
        "ham_words = vectorizer.fit_transform(data_train[data_train['label'] == 0]['clean_text']).toarray()\n",
        "\n",
        "print(\"Top spam words:\", vectorizer.get_feature_names_out())"
      ]
    },
    {
      "cell_type": "markdown",
      "metadata": {
        "id": "RgR-sVZSVMT1"
      },
      "source": [
        "## Extra features"
      ]
    },
    {
      "cell_type": "code",
      "execution_count": 16,
      "metadata": {
        "colab": {
          "base_uri": "https://localhost:8080/",
          "height": 206
        },
        "id": "GJ6SJvonVMT1",
        "outputId": "ead97656-a718-4a06-b940-640396b962ae"
      },
      "outputs": [
        {
          "output_type": "execute_result",
          "data": {
            "text/plain": [
              "                                                  text  label  \\\n",
              "29   ----------- REGARDS, MR NELSON SMITH.KINDLY RE...      1   \n",
              "535  I have not been able to reach oscar this am. W...      0   \n",
              "695  ; Huma Abedin B6I'm checking with Pat on the 5...      0   \n",
              "557  I can have it announced here on Monday - can't...      0   \n",
              "836      BANK OF AFRICAAGENCE SAN PEDRO14 BP 1210 S...      1   \n",
              "\n",
              "                                            clean_text  money_mark  \\\n",
              "29   regard mr nelson smithkindly reply private ema...           1   \n",
              "535       able reach oscar supposed send pdb u receive           1   \n",
              "695  huma abedin bim checking pat k work jack jake ...           1   \n",
              "557                        announced monday cant today           1   \n",
              "836  bank africaagence san pedro bp san pedro cote ...           1   \n",
              "\n",
              "     suspicious_words  text_len  \n",
              "29                  0        75  \n",
              "535                 0        44  \n",
              "695                 0        81  \n",
              "557                 0        27  \n",
              "836                 1      1067  "
            ],
            "text/html": [
              "\n",
              "  <div id=\"df-6822f57f-dfdb-458b-8995-d5956b89de8e\" class=\"colab-df-container\">\n",
              "    <div>\n",
              "<style scoped>\n",
              "    .dataframe tbody tr th:only-of-type {\n",
              "        vertical-align: middle;\n",
              "    }\n",
              "\n",
              "    .dataframe tbody tr th {\n",
              "        vertical-align: top;\n",
              "    }\n",
              "\n",
              "    .dataframe thead th {\n",
              "        text-align: right;\n",
              "    }\n",
              "</style>\n",
              "<table border=\"1\" class=\"dataframe\">\n",
              "  <thead>\n",
              "    <tr style=\"text-align: right;\">\n",
              "      <th></th>\n",
              "      <th>text</th>\n",
              "      <th>label</th>\n",
              "      <th>clean_text</th>\n",
              "      <th>money_mark</th>\n",
              "      <th>suspicious_words</th>\n",
              "      <th>text_len</th>\n",
              "    </tr>\n",
              "  </thead>\n",
              "  <tbody>\n",
              "    <tr>\n",
              "      <th>29</th>\n",
              "      <td>----------- REGARDS, MR NELSON SMITH.KINDLY RE...</td>\n",
              "      <td>1</td>\n",
              "      <td>regard mr nelson smithkindly reply private ema...</td>\n",
              "      <td>1</td>\n",
              "      <td>0</td>\n",
              "      <td>75</td>\n",
              "    </tr>\n",
              "    <tr>\n",
              "      <th>535</th>\n",
              "      <td>I have not been able to reach oscar this am. W...</td>\n",
              "      <td>0</td>\n",
              "      <td>able reach oscar supposed send pdb u receive</td>\n",
              "      <td>1</td>\n",
              "      <td>0</td>\n",
              "      <td>44</td>\n",
              "    </tr>\n",
              "    <tr>\n",
              "      <th>695</th>\n",
              "      <td>; Huma Abedin B6I'm checking with Pat on the 5...</td>\n",
              "      <td>0</td>\n",
              "      <td>huma abedin bim checking pat k work jack jake ...</td>\n",
              "      <td>1</td>\n",
              "      <td>0</td>\n",
              "      <td>81</td>\n",
              "    </tr>\n",
              "    <tr>\n",
              "      <th>557</th>\n",
              "      <td>I can have it announced here on Monday - can't...</td>\n",
              "      <td>0</td>\n",
              "      <td>announced monday cant today</td>\n",
              "      <td>1</td>\n",
              "      <td>0</td>\n",
              "      <td>27</td>\n",
              "    </tr>\n",
              "    <tr>\n",
              "      <th>836</th>\n",
              "      <td>BANK OF AFRICAAGENCE SAN PEDRO14 BP 1210 S...</td>\n",
              "      <td>1</td>\n",
              "      <td>bank africaagence san pedro bp san pedro cote ...</td>\n",
              "      <td>1</td>\n",
              "      <td>1</td>\n",
              "      <td>1067</td>\n",
              "    </tr>\n",
              "  </tbody>\n",
              "</table>\n",
              "</div>\n",
              "    <div class=\"colab-df-buttons\">\n",
              "\n",
              "  <div class=\"colab-df-container\">\n",
              "    <button class=\"colab-df-convert\" onclick=\"convertToInteractive('df-6822f57f-dfdb-458b-8995-d5956b89de8e')\"\n",
              "            title=\"Convert this dataframe to an interactive table.\"\n",
              "            style=\"display:none;\">\n",
              "\n",
              "  <svg xmlns=\"http://www.w3.org/2000/svg\" height=\"24px\" viewBox=\"0 -960 960 960\">\n",
              "    <path d=\"M120-120v-720h720v720H120Zm60-500h600v-160H180v160Zm220 220h160v-160H400v160Zm0 220h160v-160H400v160ZM180-400h160v-160H180v160Zm440 0h160v-160H620v160ZM180-180h160v-160H180v160Zm440 0h160v-160H620v160Z\"/>\n",
              "  </svg>\n",
              "    </button>\n",
              "\n",
              "  <style>\n",
              "    .colab-df-container {\n",
              "      display:flex;\n",
              "      gap: 12px;\n",
              "    }\n",
              "\n",
              "    .colab-df-convert {\n",
              "      background-color: #E8F0FE;\n",
              "      border: none;\n",
              "      border-radius: 50%;\n",
              "      cursor: pointer;\n",
              "      display: none;\n",
              "      fill: #1967D2;\n",
              "      height: 32px;\n",
              "      padding: 0 0 0 0;\n",
              "      width: 32px;\n",
              "    }\n",
              "\n",
              "    .colab-df-convert:hover {\n",
              "      background-color: #E2EBFA;\n",
              "      box-shadow: 0px 1px 2px rgba(60, 64, 67, 0.3), 0px 1px 3px 1px rgba(60, 64, 67, 0.15);\n",
              "      fill: #174EA6;\n",
              "    }\n",
              "\n",
              "    .colab-df-buttons div {\n",
              "      margin-bottom: 4px;\n",
              "    }\n",
              "\n",
              "    [theme=dark] .colab-df-convert {\n",
              "      background-color: #3B4455;\n",
              "      fill: #D2E3FC;\n",
              "    }\n",
              "\n",
              "    [theme=dark] .colab-df-convert:hover {\n",
              "      background-color: #434B5C;\n",
              "      box-shadow: 0px 1px 3px 1px rgba(0, 0, 0, 0.15);\n",
              "      filter: drop-shadow(0px 1px 2px rgba(0, 0, 0, 0.3));\n",
              "      fill: #FFFFFF;\n",
              "    }\n",
              "  </style>\n",
              "\n",
              "    <script>\n",
              "      const buttonEl =\n",
              "        document.querySelector('#df-6822f57f-dfdb-458b-8995-d5956b89de8e button.colab-df-convert');\n",
              "      buttonEl.style.display =\n",
              "        google.colab.kernel.accessAllowed ? 'block' : 'none';\n",
              "\n",
              "      async function convertToInteractive(key) {\n",
              "        const element = document.querySelector('#df-6822f57f-dfdb-458b-8995-d5956b89de8e');\n",
              "        const dataTable =\n",
              "          await google.colab.kernel.invokeFunction('convertToInteractive',\n",
              "                                                    [key], {});\n",
              "        if (!dataTable) return;\n",
              "\n",
              "        const docLinkHtml = 'Like what you see? Visit the ' +\n",
              "          '<a target=\"_blank\" href=https://colab.research.google.com/notebooks/data_table.ipynb>data table notebook</a>'\n",
              "          + ' to learn more about interactive tables.';\n",
              "        element.innerHTML = '';\n",
              "        dataTable['output_type'] = 'display_data';\n",
              "        await google.colab.output.renderOutput(dataTable, element);\n",
              "        const docLink = document.createElement('div');\n",
              "        docLink.innerHTML = docLinkHtml;\n",
              "        element.appendChild(docLink);\n",
              "      }\n",
              "    </script>\n",
              "  </div>\n",
              "\n",
              "\n",
              "<div id=\"df-fa278285-e4d9-490a-a190-da20332db036\">\n",
              "  <button class=\"colab-df-quickchart\" onclick=\"quickchart('df-fa278285-e4d9-490a-a190-da20332db036')\"\n",
              "            title=\"Suggest charts\"\n",
              "            style=\"display:none;\">\n",
              "\n",
              "<svg xmlns=\"http://www.w3.org/2000/svg\" height=\"24px\"viewBox=\"0 0 24 24\"\n",
              "     width=\"24px\">\n",
              "    <g>\n",
              "        <path d=\"M19 3H5c-1.1 0-2 .9-2 2v14c0 1.1.9 2 2 2h14c1.1 0 2-.9 2-2V5c0-1.1-.9-2-2-2zM9 17H7v-7h2v7zm4 0h-2V7h2v10zm4 0h-2v-4h2v4z\"/>\n",
              "    </g>\n",
              "</svg>\n",
              "  </button>\n",
              "\n",
              "<style>\n",
              "  .colab-df-quickchart {\n",
              "      --bg-color: #E8F0FE;\n",
              "      --fill-color: #1967D2;\n",
              "      --hover-bg-color: #E2EBFA;\n",
              "      --hover-fill-color: #174EA6;\n",
              "      --disabled-fill-color: #AAA;\n",
              "      --disabled-bg-color: #DDD;\n",
              "  }\n",
              "\n",
              "  [theme=dark] .colab-df-quickchart {\n",
              "      --bg-color: #3B4455;\n",
              "      --fill-color: #D2E3FC;\n",
              "      --hover-bg-color: #434B5C;\n",
              "      --hover-fill-color: #FFFFFF;\n",
              "      --disabled-bg-color: #3B4455;\n",
              "      --disabled-fill-color: #666;\n",
              "  }\n",
              "\n",
              "  .colab-df-quickchart {\n",
              "    background-color: var(--bg-color);\n",
              "    border: none;\n",
              "    border-radius: 50%;\n",
              "    cursor: pointer;\n",
              "    display: none;\n",
              "    fill: var(--fill-color);\n",
              "    height: 32px;\n",
              "    padding: 0;\n",
              "    width: 32px;\n",
              "  }\n",
              "\n",
              "  .colab-df-quickchart:hover {\n",
              "    background-color: var(--hover-bg-color);\n",
              "    box-shadow: 0 1px 2px rgba(60, 64, 67, 0.3), 0 1px 3px 1px rgba(60, 64, 67, 0.15);\n",
              "    fill: var(--button-hover-fill-color);\n",
              "  }\n",
              "\n",
              "  .colab-df-quickchart-complete:disabled,\n",
              "  .colab-df-quickchart-complete:disabled:hover {\n",
              "    background-color: var(--disabled-bg-color);\n",
              "    fill: var(--disabled-fill-color);\n",
              "    box-shadow: none;\n",
              "  }\n",
              "\n",
              "  .colab-df-spinner {\n",
              "    border: 2px solid var(--fill-color);\n",
              "    border-color: transparent;\n",
              "    border-bottom-color: var(--fill-color);\n",
              "    animation:\n",
              "      spin 1s steps(1) infinite;\n",
              "  }\n",
              "\n",
              "  @keyframes spin {\n",
              "    0% {\n",
              "      border-color: transparent;\n",
              "      border-bottom-color: var(--fill-color);\n",
              "      border-left-color: var(--fill-color);\n",
              "    }\n",
              "    20% {\n",
              "      border-color: transparent;\n",
              "      border-left-color: var(--fill-color);\n",
              "      border-top-color: var(--fill-color);\n",
              "    }\n",
              "    30% {\n",
              "      border-color: transparent;\n",
              "      border-left-color: var(--fill-color);\n",
              "      border-top-color: var(--fill-color);\n",
              "      border-right-color: var(--fill-color);\n",
              "    }\n",
              "    40% {\n",
              "      border-color: transparent;\n",
              "      border-right-color: var(--fill-color);\n",
              "      border-top-color: var(--fill-color);\n",
              "    }\n",
              "    60% {\n",
              "      border-color: transparent;\n",
              "      border-right-color: var(--fill-color);\n",
              "    }\n",
              "    80% {\n",
              "      border-color: transparent;\n",
              "      border-right-color: var(--fill-color);\n",
              "      border-bottom-color: var(--fill-color);\n",
              "    }\n",
              "    90% {\n",
              "      border-color: transparent;\n",
              "      border-bottom-color: var(--fill-color);\n",
              "    }\n",
              "  }\n",
              "</style>\n",
              "\n",
              "  <script>\n",
              "    async function quickchart(key) {\n",
              "      const quickchartButtonEl =\n",
              "        document.querySelector('#' + key + ' button');\n",
              "      quickchartButtonEl.disabled = true;  // To prevent multiple clicks.\n",
              "      quickchartButtonEl.classList.add('colab-df-spinner');\n",
              "      try {\n",
              "        const charts = await google.colab.kernel.invokeFunction(\n",
              "            'suggestCharts', [key], {});\n",
              "      } catch (error) {\n",
              "        console.error('Error during call to suggestCharts:', error);\n",
              "      }\n",
              "      quickchartButtonEl.classList.remove('colab-df-spinner');\n",
              "      quickchartButtonEl.classList.add('colab-df-quickchart-complete');\n",
              "    }\n",
              "    (() => {\n",
              "      let quickchartButtonEl =\n",
              "        document.querySelector('#df-fa278285-e4d9-490a-a190-da20332db036 button');\n",
              "      quickchartButtonEl.style.display =\n",
              "        google.colab.kernel.accessAllowed ? 'block' : 'none';\n",
              "    })();\n",
              "  </script>\n",
              "</div>\n",
              "\n",
              "    </div>\n",
              "  </div>\n"
            ],
            "application/vnd.google.colaboratory.intrinsic+json": {
              "type": "dataframe",
              "variable_name": "data_train",
              "summary": "{\n  \"name\": \"data_train\",\n  \"rows\": 800,\n  \"fields\": [\n    {\n      \"column\": \"text\",\n      \"properties\": {\n        \"dtype\": \"string\",\n        \"num_unique_values\": 759,\n        \"samples\": [\n          \"Greetings from Dubai=2C This letter must come to you as a big surprise=2C but I believe it is only a day that people meet and become great friends and business partners=2E  I am Mr=2E Ali Raza Khan=2C currently Head of Coporate affairs with a reputable bankhere in U=2E A=2E E=2E  I write you this proposal in good faith=2C believing that I can trust you with the information I am about to reveal to you=2EI have an urgent and very confidential business proposition for you=2E On November 6=2C 2000=2C an Iraqi Foreign Oil consultant=2Fcontractor with the CHEVRONPETROLEUM CORPORATION=2C MR=2E KHALIL AL NASSER made a =28Fixed deposit=29 for 36 calendar months=2C valued at US$17=2C500=2C000=2E00 =28Seventeen Million Five hundred Thousand Dollars only=29 in my bank and I happen to be his account officer before I was moved to my present position recently=2E Upon maturity in 2003=2C as his account officer and as well the bank manger=2C it is my duty to notify him on the maturity date so I sent a routine notification to his forwarding address but the letter was returned undelivered=2E After sometime=2C I tried sending back the letter=2C but it was again returned and finally I discovered from his contract employers=2C Chevron Petroleum Corporation that Mr=2E Khalil Al Nasser died as a result of torture in the hand of Saddam Hussein =28former Iraqi President=29 during one of his trips to his country Iraq=2C as he was accused of leaking information to the Americans=2E On further investigation=2C I discovered that Mr=2E Al Nasser=92s family wife and two sons died during the Gulf War in Iraq and was the reason why he did not declare any next of kin or relation in all his official documents=2C including his Bank Deposit paperwork in my Bank and did not leave any WILL=2E  This sum of US$17=2C500=2C000=2E00 have been floating and placed under dormant=2Funserviceable account by my bank management since no one have heard from the owner since 2003=2E  I wish to let you know that all the investigation I have made so far=2C my bank management is not aware of it=2C I am the only one that have the information=2EWith the recent change of government in my country and with their efforts to support the United Nations in checkmating terrorism aid in the U=2E A=2E E=2E  By end of this year=2C the government will pass a new financial control law which will give the government authority to interrogate account owners of above $5=2C000=2C000=2E00 to explain the source of the funds=2Cmaking sure it is not for terrorism support=2E  If I do not move this money out of the country immediately=2C by end of the year the government will definitely confiscate the money=2C because my bank cannot provide the account owner to explain the source of the money=2E  I cannot directly transfer out this money without the help of a foreigner and that is why I am contacting you for an assistance=2E  As the Account Officer to late Al Nasser=2C coupledwith my present position and status in the bank as Head of Retail Banking Groug =2C I have the power to influence the release of the funds to any foreigner that comes up as the next of kin to the account=2C with the correct information concerning the account=2C which I shall give you=2E  All documents to enable you claim this fund will be carefully worked out and there is practically no risk involved=2C the transaction will be executed under a legitimate arrangement that will protect you from any breach of law=2C beside U=2E A=2E E is porous and anything goes=2EIf you accept to work with me=2C I want you to state how you wish us to share the funds in percentage=2C so that both parties will be satisfied=2E  If you are interested=2C contact me as soon as you receive this message  so we can go over the details=2E  Thanking you in advance and may God bless you=2E Please=2C treat with utmost confidentiality=2E  I shall send you copy of the deposit certificate issued to Al Nasser when the deposit was made for your perusal=2E   I wait your urgent response=2E  Regards=2C Mr=2E Ali Raza Khan\",\n          \"cash money, but the Security Company does not know theactual content of the consignment because it wasdeposited by my father with a declaration that thecontent is precious metals and diamond valued at US$ 23M, and this was done with diplomatic immunity and forsecurity reason, at the time, my father was still ingovernment in my country Zimbabwe.This transaction is basically risk-free for you;therefore, reach me, preferably with the above statedphone or fax number to ensure the security of thistransaction. Note that it is because of theconfidential nature of this transaction that I amgiving you this contact Info which you can use to reach\",\n          \"H <hrod17@clintonemail.com >Saturday January 23 2010 4:09 PM'sbwhoeopRe: H: FYI: Any foreign nation or leader with a front company becomes a \\\"person\\\" underUS law. SGood for him. I wish he were 50 instead 90!\"\n        ],\n        \"semantic_type\": \"\",\n        \"description\": \"\"\n      }\n    },\n    {\n      \"column\": \"label\",\n      \"properties\": {\n        \"dtype\": \"number\",\n        \"std\": 0,\n        \"min\": 0,\n        \"max\": 1,\n        \"num_unique_values\": 2,\n        \"samples\": [\n          0,\n          1\n        ],\n        \"semantic_type\": \"\",\n        \"description\": \"\"\n      }\n    },\n    {\n      \"column\": \"clean_text\",\n      \"properties\": {\n        \"dtype\": \"string\",\n        \"num_unique_values\": 736,\n        \"samples\": [\n          \"move smoothly account prove bankas finished reading letter call immediately discus well businesshotmail go get hotmail news sport much check new msn mobilecccfdddafcadad\",\n          \"thirty two million three hundred fifty thousand dollarsretransfer million u dollar account name drmark kingsley william work international operation department bank londoni feel quite safe dealing important businessthough medium internet greatly abused choose reach still remains fastest medium communication however correspondence unofficial private treated first like assure transaction risk trouble free party want transfer money bank london fund transfer clean origin owner account foreigner program leaderuntil deaththe late prime minister mr rafik hariri huge investment united kingdom world matter fact sum thirty two million three hundred fifty thousand dollar account london deposited family valuablesthe family know depositi routine inspection discovered dormant domiciliary account bal thirty two million three hundred fifty thousand dollar discreet investigation also discovered account holder passed away dead leaving beneficiary account bank approve money foreigner former operator ac foreigner certainly sure nobody come claim money foreigner claim money legal claim account holder therefore need cooperation transaction provide necessary information needed order claim money hoping god never let futureokrafik bahaa edine hariri november february married nazek audi hariri lebanese selfmade billionaire business tycoon five time prime minister lebanon last resignation office october late rafik hariri died february explosive equivalent around kg c detonated motorcade drove past saint george hotel n lebanese capital information please log httpwwwhaririinfoi want transfer money safe foreign account abroad dont know foreigner trust know message come surprise dont know sure real genuine business contact believing let fund go account let hear urgently emailregardsdrmark kingsley william\"\n        ],\n        \"semantic_type\": \"\",\n        \"description\": \"\"\n      }\n    },\n    {\n      \"column\": \"money_mark\",\n      \"properties\": {\n        \"dtype\": \"number\",\n        \"std\": 0,\n        \"min\": 1,\n        \"max\": 1,\n        \"num_unique_values\": 1,\n        \"samples\": [\n          1\n        ],\n        \"semantic_type\": \"\",\n        \"description\": \"\"\n      }\n    },\n    {\n      \"column\": \"suspicious_words\",\n      \"properties\": {\n        \"dtype\": \"number\",\n        \"std\": 0,\n        \"min\": 0,\n        \"max\": 1,\n        \"num_unique_values\": 2,\n        \"samples\": [\n          1\n        ],\n        \"semantic_type\": \"\",\n        \"description\": \"\"\n      }\n    },\n    {\n      \"column\": \"text_len\",\n      \"properties\": {\n        \"dtype\": \"number\",\n        \"std\": 2666,\n        \"min\": 0,\n        \"max\": 52864,\n        \"num_unique_values\": 514,\n        \"samples\": [\n          1346\n        ],\n        \"semantic_type\": \"\",\n        \"description\": \"\"\n      }\n    }\n  ]\n}"
            }
          },
          "metadata": {},
          "execution_count": 16
        }
      ],
      "source": [
        "money_symbol_list = \"|\".join([\"euro\", \"dollar\", \"pound\", \"€\", \"$\"])\n",
        "suspicious_words = \"|\".join([\"free\", \"cheap\", \"sex\", \"money\", \"account\", \"bank\",\n",
        "                             \"fund\", \"transfer\", \"transaction\", \"win\", \"deposit\", \"password\"])\n",
        "\n",
        "data_train['money_mark'] = data_train['clean_text'].str.contains(money_symbol_list).astype(int)\n",
        "data_train['suspicious_words'] = data_train['clean_text'].str.contains(suspicious_words).astype(int)\n",
        "data_train['text_len'] = data_train['clean_text'].apply(len)\n",
        "\n",
        "data_val['money_mark'] = data_val['clean_text'].str.contains(money_symbol_list).astype(int)\n",
        "data_val['suspicious_words'] = data_val['clean_text'].str.contains(suspicious_words).astype(int)\n",
        "data_val['text_len'] = data_val['clean_text'].apply(len)\n",
        "\n",
        "data_train.head()"
      ]
    },
    {
      "cell_type": "markdown",
      "metadata": {
        "id": "Bxl5Ahx1VMT1"
      },
      "source": [
        "## How would you create a Bag of Words with the CountVectorizer method?"
      ]
    },
    {
      "cell_type": "code",
      "execution_count": null,
      "metadata": {
        "id": "eochRpuqVMT2"
      },
      "outputs": [],
      "source": [
        "# Your code"
      ]
    },
    {
      "cell_type": "markdown",
      "metadata": {
        "id": "AWfZ9IQzVMT2"
      },
      "source": [
        "## TD-IDF\n",
        "\n",
        "- Load the vectorizer\n",
        "\n",
        "- Vectorize all dataset\n",
        "\n",
        "- print the shape of the vetorized dataset"
      ]
    },
    {
      "cell_type": "code",
      "execution_count": 17,
      "metadata": {
        "colab": {
          "base_uri": "https://localhost:8080/"
        },
        "id": "sum6EdeVVMT2",
        "outputId": "d81dd2e8-b0b4-4242-8ea5-ce61a13c7e45"
      },
      "outputs": [
        {
          "output_type": "stream",
          "name": "stdout",
          "text": [
            "TF-IDF shape (train): (800, 500)\n",
            "TF-IDF shape (validation): (200, 500)\n"
          ]
        }
      ],
      "source": [
        "from sklearn.feature_extraction.text import TfidfVectorizer\n",
        "\n",
        "tfidf_vectorizer = TfidfVectorizer(max_features=500)\n",
        "X_train = tfidf_vectorizer.fit_transform(data_train['clean_text'])\n",
        "X_val = tfidf_vectorizer.transform(data_val['clean_text'])\n",
        "\n",
        "print(\"TF-IDF shape (train):\", X_train.shape)\n",
        "print(\"TF-IDF shape (validation):\", X_val.shape)\n"
      ]
    },
    {
      "cell_type": "markdown",
      "metadata": {
        "id": "vJdV-dsCVMT2"
      },
      "source": [
        "### Extra Task (optional) - Implement a SPAM/HAM classifier\n",
        "\n",
        "https://www.kaggle.com/t/b384e34013d54d238490103bc3c360ce\n",
        "\n",
        "Use a MultinimialNB with default parameters.\n",
        "\n",
        "Your task is to find the **best feature representation**.\n",
        "\n",
        "You can work with teams of two persons (recommended)."
      ]
    },
    {
      "cell_type": "code",
      "execution_count": null,
      "metadata": {
        "id": "6IXE8AsUVMT2"
      },
      "outputs": [],
      "source": [
        "# Your code"
      ]
    }
  ],
  "metadata": {
    "celltoolbar": "Slideshow",
    "kernelspec": {
      "display_name": "Python 3 (ipykernel)",
      "language": "python",
      "name": "python3"
    },
    "language_info": {
      "codemirror_mode": {
        "name": "ipython",
        "version": 3
      },
      "file_extension": ".py",
      "mimetype": "text/x-python",
      "name": "python",
      "nbconvert_exporter": "python",
      "pygments_lexer": "ipython3",
      "version": "3.11.5"
    },
    "colab": {
      "provenance": []
    }
  },
  "nbformat": 4,
  "nbformat_minor": 0
}